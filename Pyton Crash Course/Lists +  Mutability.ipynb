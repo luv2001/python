{
 "cells": [
  {
   "cell_type": "code",
   "execution_count": 23,
   "id": "a8a7c06f",
   "metadata": {},
   "outputs": [
    {
     "name": "stdout",
     "output_type": "stream",
     "text": [
      "HelloJi\n",
      "length : 7\n",
      "Last element :  12\n",
      "1 12 FMA\n",
      "[9.3, 'AOT', 'FMA']\n",
      "['AOT', 'FMA', 3, 12]\n",
      "[5, 7, 9, 11, 13, 15, 17, 19]\n",
      "True False True\n",
      "True\n"
     ]
    }
   ],
   "source": [
    "randomDatatypes = [ 1 , \"HelloJi\" , 9.3 ,\"AOT\" , \"FMA\" , 3, 12 ]\n",
    "print(randomDatatypes[1] ) \n",
    "print(\"length :\" , len(randomDatatypes))\n",
    "print(\"Last element : \" , randomDatatypes[len(randomDatatypes)-1])\n",
    "print(randomDatatypes[-0] ,randomDatatypes[-1] , randomDatatypes[-3] )\n",
    "print(randomDatatypes[2:5])\n",
    "print(randomDatatypes[3:])\n",
    "\n",
    "\n",
    "# range( start , stop , step )\n",
    "# ‍The start argument determines the start index of your list.\n",
    "# The stop argument determines the stop index of your list.\n",
    "# The step argument determines the step size of your list.\n",
    "\n",
    "listOfNumbers = list(range(5,20,2)) \n",
    "print(listOfNumbers)\n",
    "\n",
    "print(\"FMA\" in randomDatatypes , \"DemonSlayer\" in randomDatatypes , \"DemonSlayer\" not in randomDatatypes )\n",
    "\n",
    "print(\"loJ\" in randomDatatypes[1] )"
   ]
  },
  {
   "cell_type": "code",
   "execution_count": 33,
   "id": "d0c16940",
   "metadata": {},
   "outputs": [
    {
     "name": "stdout",
     "output_type": "stream",
     "text": [
      "Dadiyala\n",
      "['apple', 'Mango']\n",
      "['apple', 'Mango']\n"
     ]
    }
   ],
   "source": [
    "# Mutablility\n",
    "\n",
    "\n",
    "# animalName = \"LionMessy\"\n",
    "# animalName[1] = 'e'\n",
    "# print(animalName)\n",
    "\n",
    "# animalList = ['Lion', 'Cat' , 'Girraf']\n",
    "# animalList[1] = 'Tiger'\n",
    "# print(animalList)\n",
    "\n",
    "# name = \"Luv\"\n",
    "# surname = \"Dadiyala\"\n",
    "\n",
    "# secondName = surname\n",
    "# surname = \"Dadyala\"\n",
    "# print(secondName)\n",
    "\n",
    "# fruit = ['apple' , 'grapes']\n",
    "# otherFruit = fruit\n",
    "# fruit[1] = 'Mango'\n",
    "\n",
    "# print(fruit)\n",
    "# print(otherFruit) ## list changes string don't\n",
    "\n",
    "\n",
    "\n",
    "\n"
   ]
  },
  {
   "cell_type": "code",
   "execution_count": null,
   "id": "34bdee9c",
   "metadata": {},
   "outputs": [],
   "source": []
  }
 ],
 "metadata": {
  "kernelspec": {
   "display_name": "Python 3",
   "language": "python",
   "name": "python3"
  },
  "language_info": {
   "codemirror_mode": {
    "name": "ipython",
    "version": 3
   },
   "file_extension": ".py",
   "mimetype": "text/x-python",
   "name": "python",
   "nbconvert_exporter": "python",
   "pygments_lexer": "ipython3",
   "version": "3.8.8"
  }
 },
 "nbformat": 4,
 "nbformat_minor": 5
}
