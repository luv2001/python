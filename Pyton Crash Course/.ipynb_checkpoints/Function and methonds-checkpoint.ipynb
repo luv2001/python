{
 "cells": [
  {
   "cell_type": "code",
   "execution_count": 21,
   "id": "88464f1d",
   "metadata": {},
   "outputs": [
    {
     "name": "stdout",
     "output_type": "stream",
     "text": [
      "{1, 3, 4, 7, 10, 56}\n"
     ]
    }
   ],
   "source": [
    "numbers = [1,4,56,7,10,1,3,3]\n",
    "# numbers.append(100)\n",
    "# print(min(numbers) , max(numbers))\n",
    "\n",
    "# print(numbers)\n",
    "# print(sorted(numbers))\n",
    "# print(' ==>  '.join(['Naruto' ,'Boruto']))\n",
    "\n",
    "# formattedString = \"Attack titan Owner before Grisha Yeager : {} , before Eren Yeager :  {} \".format('OWL' , 'Grisha Yeager')\n",
    "# print(formattedString)\n",
    "\n",
    "\n",
    "# print(set(numbers))\n"
   ]
  },
  {
   "cell_type": "code",
   "execution_count": 25,
   "id": "1e433d15",
   "metadata": {},
   "outputs": [
    {
     "name": "stdout",
     "output_type": "stream",
     "text": [
      "<class 'dict'>\n"
     ]
    }
   ],
   "source": [
    "inventory = { 'bananas' : 1.29 , 'apples' : 2.99 , 'papayas' : 1.39 , 'ad':2 }\n",
    "print(type(inventory))"
   ]
  },
  {
   "cell_type": "code",
   "execution_count": 2,
   "id": "6a788e36",
   "metadata": {},
   "outputs": [
    {
     "name": "stdout",
     "output_type": "stream",
     "text": [
      "Enter Loewr Bound : 11\n",
      "Enter Upper Bound : 33\n",
      "[1, 2, 3, 4, 5, 6, 7, 8, 9]\n"
     ]
    }
   ],
   "source": [
    "\n",
    "    lowerbound = input(\"Enter Loewr Bound : \")\n",
    "upperbound = input(\"Enter Upper Bound : \")\n",
    "\n",
    "listOfNumbers = list(range(1, 10))\n",
    "\n",
    "print(listOfNumbers)        "
   ]
  },
  {
   "cell_type": "code",
   "execution_count": null,
   "id": "73e1f72b",
   "metadata": {},
   "outputs": [],
   "source": []
  }
 ],
 "metadata": {
  "kernelspec": {
   "display_name": "Python 3",
   "language": "python",
   "name": "python3"
  },
  "language_info": {
   "codemirror_mode": {
    "name": "ipython",
    "version": 3
   },
   "file_extension": ".py",
   "mimetype": "text/x-python",
   "name": "python",
   "nbconvert_exporter": "python",
   "pygments_lexer": "ipython3",
   "version": "3.8.8"
  }
 },
 "nbformat": 4,
 "nbformat_minor": 5
}
