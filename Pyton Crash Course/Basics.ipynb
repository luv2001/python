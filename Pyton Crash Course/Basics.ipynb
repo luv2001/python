{
 "cells": [
  {
   "cell_type": "code",
   "execution_count": 2,
   "id": "3ba6e09d",
   "metadata": {},
   "outputs": [
    {
     "name": "stdout",
     "output_type": "stream",
     "text": [
      "2.4\n"
     ]
    }
   ],
   "source": [
    "print(12/5)"
   ]
  },
  {
   "cell_type": "code",
   "execution_count": 19,
   "id": "346f9369",
   "metadata": {},
   "outputs": [
    {
     "name": "stdout",
     "output_type": "stream",
     "text": [
      "rounds down to the nearest integer using // operator :  2\n"
     ]
    }
   ],
   "source": [
    "print(\"rounds down to the nearest integer using // operator : \" , 12//5)"
   ]
  },
  {
   "cell_type": "code",
   "execution_count": 17,
   "id": "69f4b772",
   "metadata": {},
   "outputs": [
    {
     "name": "stdout",
     "output_type": "stream",
     "text": [
      "modulo as per c++ is  1\n"
     ]
    }
   ],
   "source": [
    "print(\"modulo as per c++ is \" , 10%3)"
   ]
  },
  {
   "cell_type": "code",
   "execution_count": 15,
   "id": "3722763c",
   "metadata": {},
   "outputs": [
    {
     "name": "stdout",
     "output_type": "stream",
     "text": [
      "4 to the power 2 is  16\n"
     ]
    }
   ],
   "source": [
    "print(\"4 to the power 2 is \" , 4**2)"
   ]
  },
  {
   "cell_type": "code",
   "execution_count": 13,
   "id": "e6a82545",
   "metadata": {},
   "outputs": [
    {
     "name": "stdout",
     "output_type": "stream",
     "text": [
      "this prints variables ',' :  19 Luvdipsingh male\n"
     ]
    }
   ],
   "source": [
    "age = 19 \n",
    "name = \"Luvdipsingh\" \n",
    "gender=\"male\"\n",
    "print( \"this prints variables ',' : \" , age,name,gender)"
   ]
  },
  {
   "cell_type": "code",
   "execution_count": 22,
   "id": "f6ad4794",
   "metadata": {},
   "outputs": [
    {
     "name": "stdout",
     "output_type": "stream",
     "text": [
      "19 Luv Male\n"
     ]
    }
   ],
   "source": [
    "age,name,gender = 19,\"Luv\",\"Male\"\n",
    "print(age,name,gender)"
   ]
  },
  {
   "cell_type": "code",
   "execution_count": 24,
   "id": "c51b0c8f",
   "metadata": {},
   "outputs": [
    {
     "name": "stdout",
     "output_type": "stream",
     "text": [
      "4\n"
     ]
    }
   ],
   "source": [
    "capitalCamelAvoid = 4\n",
    "print(capitalCamelAvoid)"
   ]
  },
  {
   "cell_type": "code",
   "execution_count": 32,
   "id": "913b3697",
   "metadata": {},
   "outputs": [
    {
     "name": "stdout",
     "output_type": "stream",
     "text": [
      "<class 'float'>\n",
      "<class 'int'>\n",
      "c =>  2.5  int(c) => 2\n"
     ]
    }
   ],
   "source": [
    "a,b = 5,2\n",
    "c = a/b\n",
    "print(type(c))\n",
    "print(type(a))\n",
    "print( \"c => \" , c ,  \" int(c) =>\" , int(c) )"
   ]
  },
  {
   "cell_type": "code",
   "execution_count": 36,
   "id": "9beba0ae",
   "metadata": {},
   "outputs": [
    {
     "name": "stdout",
     "output_type": "stream",
     "text": [
      "4\n",
      "4.0\n"
     ]
    }
   ],
   "source": [
    "d = 4\n",
    "print(d)\n",
    "d = float(4)\n",
    "print(d)"
   ]
  },
  {
   "cell_type": "code",
   "execution_count": 47,
   "id": "61febd23",
   "metadata": {},
   "outputs": [
    {
     "name": "stdout",
     "output_type": "stream",
     "text": [
      " Let's play ona game with single quotes\n"
     ]
    }
   ],
   "source": [
    "print(' Let\\'s play ona game with single quotes')"
   ]
  },
  {
   "cell_type": "code",
   "execution_count": 53,
   "id": "01e6f3ac",
   "metadata": {},
   "outputs": [
    {
     "name": "stdout",
     "output_type": "stream",
     "text": [
      "True False\n"
     ]
    }
   ],
   "source": [
    "print(1>2 or 0<1 , 0<3 and 2<1)"
   ]
  },
  {
   "cell_type": "code",
   "execution_count": 63,
   "id": "208ecb11",
   "metadata": {},
   "outputs": [
    {
     "name": "stdout",
     "output_type": "stream",
     "text": [
      "Attack On Titan ATTACK ON TITAN attack on titan\n"
     ]
    }
   ],
   "source": [
    "movieName = \"Attack On Titan\"\n",
    "print( movieName, movieName.upper() , movieName.lower())\n"
   ]
  }
 ],
 "metadata": {
  "kernelspec": {
   "display_name": "Python 3",
   "language": "python",
   "name": "python3"
  },
  "language_info": {
   "codemirror_mode": {
    "name": "ipython",
    "version": 3
   },
   "file_extension": ".py",
   "mimetype": "text/x-python",
   "name": "python",
   "nbconvert_exporter": "python",
   "pygments_lexer": "ipython3",
   "version": "3.8.8"
  }
 },
 "nbformat": 4,
 "nbformat_minor": 5
}
